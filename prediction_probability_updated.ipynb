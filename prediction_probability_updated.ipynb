{
 "cells": [
  {
   "cell_type": "code",
   "execution_count": 26,
   "id": "01dbe85f",
   "metadata": {},
   "outputs": [],
   "source": [
    "import os\n",
    "import numpy as np\n",
    "from tensorflow.keras.models import load_model\n",
    "from tensorflow.keras.preprocessing import image"
   ]
  },
  {
   "cell_type": "code",
   "execution_count": 27,
   "id": "27942852",
   "metadata": {},
   "outputs": [],
   "source": [
    "# Load the trained model\n",
    "model = load_model('my_mobilenet_updated_model.h5')\n"
   ]
  },
  {
   "cell_type": "code",
   "execution_count": 28,
   "id": "7c193eb9",
   "metadata": {},
   "outputs": [],
   "source": [
    "# Define the directory path where the images of each class are stored\n",
    "image_directory = r'C:\\Users\\RUSHIKESH\\Desktop\\updated\\testing'\n"
   ]
  },
  {
   "cell_type": "code",
   "execution_count": 29,
   "id": "94da8022",
   "metadata": {},
   "outputs": [],
   "source": [
    "# List the subdirectories (class folders) in the image directory\n",
    "class_folders = [folder for folder in os.listdir(image_directory) if os.path.isdir(os.path.join(image_directory, folder))]"
   ]
  },
  {
   "cell_type": "code",
   "execution_count": 30,
   "id": "30ef0a96",
   "metadata": {},
   "outputs": [
    {
     "name": "stdout",
     "output_type": "stream",
     "text": [
      "1/1 [==============================] - 1s 699ms/step\n",
      "Image: C:\\Users\\RUSHIKESH\\Desktop\\updated\\testing\\Acne\\032839HB.jpg\n",
      "Predicted Class: 3\n",
      "Prediction Probability: 0.93065345287323\n",
      "\n",
      "1/1 [==============================] - 0s 60ms/step\n",
      "Image: C:\\Users\\RUSHIKESH\\Desktop\\updated\\testing\\Actinic Keratosis\\actinic-keratosis-5FU-10.jpg\n",
      "Predicted Class: 1\n",
      "Prediction Probability: 0.8259910941123962\n",
      "\n",
      "1/1 [==============================] - 0s 66ms/step\n",
      "Image: C:\\Users\\RUSHIKESH\\Desktop\\updated\\testing\\Basal Cell Carcinoma\\basal-cell-carcinoma-face-10.jpg\n",
      "Predicted Class: 2\n",
      "Prediction Probability: 0.9999439716339111\n",
      "\n",
      "1/1 [==============================] - 0s 69ms/step\n",
      "Image: C:\\Users\\RUSHIKESH\\Desktop\\updated\\testing\\Eczemaa\\eczem49.jpg\n",
      "Predicted Class: 3\n",
      "Prediction Probability: 0.9999182224273682\n",
      "\n",
      "1/1 [==============================] - 0s 71ms/step\n",
      "Image: C:\\Users\\RUSHIKESH\\Desktop\\updated\\testing\\Rosacea\\rosacea-102.jpg\n",
      "Predicted Class: 4\n",
      "Prediction Probability: 0.49652916193008423\n",
      "\n"
     ]
    }
   ],
   "source": [
    "# Iterate over each class folder and predict the probability for one image\n",
    "for class_folder in class_folders:\n",
    "    class_path = os.path.join(image_directory, class_folder)\n",
    "    image_files = os.listdir(class_path)\n",
    "\n",
    "    # Take the first image from each class folder\n",
    "    if len(image_files) > 0:\n",
    "        image_path = os.path.join(class_path, image_files[0])\n",
    "\n",
    "        # Load and preprocess the image\n",
    "        img = image.load_img(image_path, target_size=(224, 224))\n",
    "        img_array = image.img_to_array(img)\n",
    "        img_array = np.expand_dims(img_array, axis=0)\n",
    "        img_array = img_array / 255.0  # Normalize the image\n",
    "\n",
    "        # Make predictions\n",
    "        predictions = model.predict(img_array)\n",
    "\n",
    "        # Get the predicted class label\n",
    "        class_label = np.argmax(predictions, axis=1)[0]\n",
    "\n",
    "        # Get the prediction probability for the predicted class\n",
    "        class_probability = predictions[0][class_label]\n",
    "\n",
    "        print(f\"Image: {image_path}\")\n",
    "        print(f\"Predicted Class: {class_label}\")\n",
    "        print(f\"Prediction Probability: {class_probability}\\n\")\n"
   ]
  },
  {
   "cell_type": "code",
   "execution_count": null,
   "id": "62e6cfe7",
   "metadata": {},
   "outputs": [],
   "source": []
  }
 ],
 "metadata": {
  "kernelspec": {
   "display_name": "Python 3 (ipykernel)",
   "language": "python",
   "name": "python3"
  },
  "language_info": {
   "codemirror_mode": {
    "name": "ipython",
    "version": 3
   },
   "file_extension": ".py",
   "mimetype": "text/x-python",
   "name": "python",
   "nbconvert_exporter": "python",
   "pygments_lexer": "ipython3",
   "version": "3.10.2"
  }
 },
 "nbformat": 4,
 "nbformat_minor": 5
}
